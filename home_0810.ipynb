{
 "cells": [
  {
   "cell_type": "code",
   "execution_count": 54,
   "id": "c30f1349",
   "metadata": {},
   "outputs": [],
   "source": [
    "# f(x) = -12x^4*sin(cos(x)) - 18x^3+5x^2 + 10x - 30\n",
    "\n",
    "# Построить график\n",
    "\n",
    "# Определить корни\n",
    "\n",
    "# Найти интервалы, на которых функция возрастает\n",
    "\n",
    "# Найти интервалы, на которых функция убывает\n",
    "\n",
    "# Вычислить вершину\n",
    "\n",
    "# Определить промежутки, на котором f > 0\n",
    "\n",
    "# Определить промежутки, на котором f < 0"
   ]
  },
  {
   "cell_type": "code",
   "execution_count": null,
   "id": "5e6ad909",
   "metadata": {},
   "outputs": [],
   "source": []
  },
  {
   "cell_type": "code",
   "execution_count": 85,
   "id": "ce89745d",
   "metadata": {},
   "outputs": [
    {
     "data": {
      "image/png": "[encoded data removed]",
      "text/plain": [
       "<Figure size 640x480 with 1 Axes>"
      ]
     },
     "metadata": {},
     "output_type": "display_data"
    }
   ],
   "source": [
    "# Построить график\n",
    "import numpy as np\n",
    "from math import *\n",
    "import matplotlib.pyplot as plt\n",
    "start = -3\n",
    "end = 3\n",
    "x = list(np.arange(start, end, 0.001))\n",
    "y = list(map(lambda a: sin(cos(a))*(-12*a**4) - 18*a**3 + 5*a**2 + 10*a - 30,x))\n",
    "points = list(zip(x, y))\n",
    "fig, ax = plt.subplots()\n",
    "\n",
    "ax.plot(x, y)\n",
    "ax.grid()\n",
    "\n",
    "#  Наименование осей\n",
    "ax.set_xlabel('x')\n",
    "ax.set_ylabel('f(x)')\n",
    "  \n",
    "plt.show()"
   ]
  },
  {
   "cell_type": "code",
   "execution_count": 86,
   "id": "f50fa137",
   "metadata": {},
   "outputs": [
    {
     "data": {
      "text/latex": [
       "$\\displaystyle \\left\\{x\\; \\middle|\\; x \\in \\mathbb{R} \\wedge - 12 x^{4} \\sin{\\left(\\cos{\\left(x \\right)} \\right)} - 18 x^{3} + 5 x^{2} + 10 x - 30 = 0 \\right\\}$"
      ],
      "text/plain": [
       "ConditionSet(x, Eq(-12*x**4*sin(cos(x)) - 18*x**3 + 5*x**2 + 10*x - 30, 0), Reals)"
      ]
     },
     "execution_count": 86,
     "metadata": {},
     "output_type": "execute_result"
    }
   ],
   "source": [
    "# Определить корни\n",
    "from sympy import *\n",
    "from sympy.abc import x\n",
    "solveset(-12*(x**4)*sin(cos(x))-18*x**3+5*x**2+10*x-30, x, domain=Reals)\n"
   ]
  },
  {
   "cell_type": "code",
   "execution_count": 87,
   "id": "be28ab10",
   "metadata": {},
   "outputs": [
    {
     "name": "stdout",
     "output_type": "stream",
     "text": [
      " На отрезке от -3 до 3 решением являюся следующие значения x: [-1.338000000000183, 2.273999999999641]\n"
     ]
    }
   ],
   "source": [
    "# Определить корни\n",
    "\n",
    "def f( x ):\n",
    "  return -12*(x**4)*sin(cos(x))-18*x**3+5*x**2+10*x-30\n",
    "eps = 0.001\n",
    "x = start\n",
    "delta = eps\n",
    "solve_collection = []\n",
    "while x < end:\n",
    "    if f(x) > 0:\n",
    "        while f(x) > 0:\n",
    "            x += delta\n",
    "        else: \n",
    "            if x < end:\n",
    "                solve_collection.append(x)\n",
    "                x += delta\n",
    "            \n",
    "    elif f(x) < 0:\n",
    "        while f(x) < 0:\n",
    "            x += delta\n",
    "        else:\n",
    "            if x < end:\n",
    "                solve_collection.append(x)\n",
    "                x += delta\n",
    "print(f' На отрезке от {start} до {end} решением являюся следующие значения x: {solve_collection}')"
   ]
  },
  {
   "cell_type": "code",
   "execution_count": 93,
   "id": "21dc5acb",
   "metadata": {},
   "outputs": [
    {
     "name": "stdout",
     "output_type": "stream",
     "text": [
      "Интервалы, на котором f > 0:\n",
      "[-3.0, -1.35] [2.28, 2.98]\n",
      "Интервалы, на котором f < 0:\n",
      "[-1.33, 2.26]\n"
     ]
    }
   ],
   "source": [
    "# Определить промежутки, на котором f > 0\n",
    "# Определить промежутки, на котором f < 0\n",
    "\n",
    "points = list(zip(xs, ys))\n",
    "above, below = [], []\n",
    "flag_increase = False\n",
    "while len(points) >= 2:\n",
    "    counter = 0\n",
    "    if flag_increase:\n",
    "        while points[counter][0] < end and points[counter][1] > 0:\n",
    "            counter += 1\n",
    "        if counter != 0:\n",
    "            above.append([points[0][0], points[counter - 2][0]])\n",
    "        flag_increase = False\n",
    "    else:\n",
    "        while points[counter][0] < end and points[counter][1] < 0:\n",
    "            counter += 1\n",
    "        if counter != 0:\n",
    "            below.append([points[0][0], points[counter - 2][0]])\n",
    "        flag_increase = True\n",
    "    del points[:counter]\n",
    "\n",
    "print(\"Интервалы, на котором f > 0:\")\n",
    "print(*above)\n",
    "print(\"Интервалы, на котором f < 0:\")\n",
    "print(*below)"
   ]
  },
  {
   "cell_type": "code",
   "execution_count": 92,
   "id": "2a959d4d",
   "metadata": {},
   "outputs": [
    {
     "name": "stdout",
     "output_type": "stream",
     "text": [
      "Интервалы возрастания:\n",
      "[-0.39, 0.45] [1.7, 3.0]\n",
      "Интервалы убывания:\n",
      "[-3.0, -0.39] [0.45, 1.7]\n"
     ]
    }
   ],
   "source": [
    "# Найти интервалы, на которых функция возрастает\n",
    "# Найти интервалы, на которых функция убывает\n",
    "\n",
    "from sympy import *\n",
    "from sympy.abc import x\n",
    "\n",
    "\n",
    "expr = -12*(x**4)*sin(cos(x))-18*x**3+5*x**2+10*x-30\n",
    "precision = 100\n",
    "start = -3\n",
    "end = 3\n",
    "\n",
    "xs = [x/precision for x in range(start*precision, end*precision + 1)]\n",
    "ys = [expr.subs(x, value) for value in xs]\n",
    "points = list(zip(xs, ys))\n",
    "\n",
    "increasing, decreasing = [], []\n",
    "flag_increase = True\n",
    "while len(points) >= 2:\n",
    "    counter = 0\n",
    "    if flag_increase:\n",
    "        while points[counter][0] < end and points[counter + 1][1] > points[counter][1]:\n",
    "            counter += 1\n",
    "        if counter != 0:\n",
    "            increasing.append([points[0][0], points[counter][0]])\n",
    "        flag_increase = False\n",
    "    else:\n",
    "        while points[counter][0] < end and points[counter + 1][1] < points[counter][1]:\n",
    "            counter += 1\n",
    "        if counter != 0:\n",
    "            decreasing.append([points[0][0], points[counter][0]])\n",
    "        flag_increase = True\n",
    "    del points[:counter]\n",
    "\n",
    "print(\"Интервалы возрастания:\")\n",
    "print(*increasing)\n",
    "print(\"Интервалы убывания:\")\n",
    "print(*decreasing)"
   ]
  },
  {
   "cell_type": "code",
   "execution_count": 74,
   "id": "20dbaac2",
   "metadata": {},
   "outputs": [
    {
     "name": "stdout",
     "output_type": "stream",
     "text": [
      "Точки экстремума:\n",
      "(-19.130999999998938, -1189754.5473774835) (-16.08099999999521, 719825.6151808333) (-12.943999999991377, -230229.47473698223) (-9.978999999987753, 107678.04152344202) (-6.830999999983906, -13820.533134552155) (-4.167999999980651, 3111.3630885918265) (-0.39299999997603763, -32.293578048726005) (0.45500000002499874, -26.512727781149692) (1.7010000000265215, -74.1062684986075) (3.81900000002911, 872.2556044525213) (7.001000000032999, -25610.50966369167) (9.877000000036514, 72634.6629971379) (13.012000000040345, -308672.32103523967) (16.03100000004403, 571130.116570975) (19.167000000047864, -1442159.442763066)\n"
     ]
    }
   ],
   "source": [
    "# Вычислить вершину\n",
    "\n",
    "import numpy as np\n",
    "from math import *\n",
    "\n",
    "start = -20\n",
    "end = 20\n",
    "x = list(np.arange(start, end, 0.001))\n",
    "y = list(map(lambda a: sin(cos(a))*(-12*a**4) - 18*a**3 + 5*a**2 + 10*a - 30,x))\n",
    "points = list(zip(x, y))\n",
    "extrema = []\n",
    "flag_incr = True\n",
    "prior = points[0]\n",
    "for current in points[1:]:\n",
    "    if (flag_incr and prior[1] > current[1]) or (not flag_incr and prior[1] < current[1]):\n",
    "        prior = current\n",
    "        continue\n",
    "    else:\n",
    "        extrema.append(prior)\n",
    "        prior = current\n",
    "        flag_incr = not flag_incr\n",
    "\n",
    "print(\"Точки экстремума:\")\n",
    "print(*extrema)"
   ]
  },
  {
   "cell_type": "code",
   "execution_count": null,
   "id": "d436741f",
   "metadata": {},
   "outputs": [],
   "source": []
  }
 ],
 "metadata": {
  "kernelspec": {
   "display_name": "Python 3 (ipykernel)",
   "language": "python",
   "name": "python3"
  },
  "language_info": {
   "codemirror_mode": {
    "name": "ipython",
    "version": 3
   },
   "file_extension": ".py",
   "mimetype": "text/x-python",
   "name": "python",
   "nbconvert_exporter": "python",
   "pygments_lexer": "ipython3",
   "version": "3.10.5"
  }
 },
 "nbformat": 4,
 "nbformat_minor": 5
}
